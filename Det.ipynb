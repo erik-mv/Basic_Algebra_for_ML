{
 "cells": [
  {
   "cell_type": "code",
   "execution_count": null,
   "metadata": {
    "id": "CbjQ-DRTdlFP"
   },
   "outputs": [],
   "source": [
    "import numpy as np\n",
    "import time\n",
    "\n",
    "#Минор\n",
    "def submatrix(M, c):\n",
    "    B = [[1] * len(M) for i in range(len(M))]\n",
    "\n",
    "    for l in range(len(M)):\n",
    "        for k in range(len(M)):\n",
    "            B[l][k] = M[l][k]\n",
    "\n",
    "    B.pop(0)\n",
    "\n",
    "    for i in range(len(B)):\n",
    "        B[i].pop(c)\n",
    "    return B\n",
    "\n",
    "#Определитель методом Лапласа\n",
    "def det_L(M):\n",
    "    X = 0\n",
    "    if len(M) != len(M[0]):\n",
    "        print('Матрица не квадратная')\n",
    "    else:\n",
    "        if len(M) <= 2:\n",
    "            return M[0][0] * M[1][1] - M[0][1] * M[1][0]\n",
    "        else:\n",
    "            for i in range(len(M)):\n",
    "                X += ((-1)**i) * M[0][i] * det_L(submatrix(M, i))\n",
    "    return X"
   ]
  },
  {
   "cell_type": "code",
   "execution_count": null,
   "metadata": {
    "id": "4Xghtc6xdlFV",
    "outputId": "9aa742a3-c66d-4bbe-f133-b66c38208509"
   },
   "outputs": [
    {
     "name": "stdout",
     "output_type": "stream",
     "text": [
      "[[0.86087833 0.86367819 0.72396209 0.82546367 0.05710154 0.33475816\n",
      "  0.89433087 0.42014667 0.33258929]\n",
      " [0.17581615 0.01828876 0.93942758 0.25947566 0.54188992 0.2795653\n",
      "  0.59666149 0.87636458 0.4784057 ]\n",
      " [0.48341764 0.35821155 0.01454106 0.09117733 0.69480244 0.94368029\n",
      "  0.27884426 0.92827858 0.8573856 ]\n",
      " [0.38037331 0.81539569 0.72451612 0.56330365 0.42424852 0.25261334\n",
      "  0.91305905 0.55129753 0.57726664]\n",
      " [0.7429637  0.97799364 0.90508238 0.4030816  0.42839788 0.18986861\n",
      "  0.62456454 0.23329276 0.79758003]\n",
      " [0.61057472 0.36787978 0.45689632 0.0844165  0.50860624 0.7987022\n",
      "  0.42085426 0.09322023 0.54566315]\n",
      " [0.65022358 0.90496327 0.40576154 0.78507772 0.82036231 0.08284487\n",
      "  0.00780503 0.5002065  0.28017385]\n",
      " [0.90635976 0.19322176 0.33366179 0.32295725 0.74397292 0.33898243\n",
      "  0.86308372 0.30877404 0.8354419 ]\n",
      " [0.3643751  0.09893897 0.78388641 0.33754218 0.30231313 0.78781275\n",
      "  0.74376342 0.93520375 0.83511741]]\n"
     ]
    }
   ],
   "source": [
    "a = np.random.rand(9, 9)\n",
    "print (a)"
   ]
  },
  {
   "cell_type": "code",
   "execution_count": null,
   "metadata": {
    "id": "ExYLb-_-dlFX",
    "outputId": "d3102506-4737-4fd8-d09d-1c66ea2438e3"
   },
   "outputs": [
    {
     "name": "stdout",
     "output_type": "stream",
     "text": [
      "0.06562677188875596\n",
      "--- 0.0010025501251220703 seconds ---\n"
     ]
    }
   ],
   "source": [
    "start_time = time.time()\n",
    "print (np.linalg.det(a))\n",
    "print(\"--- %s seconds ---\" % (time.time() - start_time))"
   ]
  },
  {
   "cell_type": "code",
   "execution_count": null,
   "metadata": {
    "id": "YzAniLAQdlFY",
    "outputId": "de3fec2c-a960-4d5c-f7ca-d10cf969992f"
   },
   "outputs": [
    {
     "name": "stdout",
     "output_type": "stream",
     "text": [
      "0.06562677188875593\n",
      "--- 8.847240447998047 seconds ---\n"
     ]
    }
   ],
   "source": [
    "start_time2 = time.time()\n",
    "print (det_L(a))\n",
    "print(\"--- %s seconds ---\" % (time.time() - start_time2))"
   ]
  },
  {
   "cell_type": "code",
   "execution_count": null,
   "metadata": {
    "id": "G5U2Nv3iFN7A"
   },
   "outputs": [],
   "source": []
  },
  {
   "cell_type": "code",
   "execution_count": null,
   "metadata": {
    "id": "MaUsysZpFN7C"
   },
   "outputs": [],
   "source": []
  }
 ],
 "metadata": {
  "colab": {
   "provenance": []
  },
  "kernelspec": {
   "display_name": "Python 3 (ipykernel)",
   "language": "python",
   "name": "python3"
  },
  "language_info": {
   "codemirror_mode": {
    "name": "ipython",
    "version": 3
   },
   "file_extension": ".py",
   "mimetype": "text/x-python",
   "name": "python",
   "nbconvert_exporter": "python",
   "pygments_lexer": "ipython3",
   "version": "3.8.13"
  }
 },
 "nbformat": 4,
 "nbformat_minor": 1
}
