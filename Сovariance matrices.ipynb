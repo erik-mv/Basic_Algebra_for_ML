{
 "cells": [
  {
   "cell_type": "code",
   "execution_count": 14,
   "metadata": {
    "colab": {
     "base_uri": "https://localhost:8080/"
    },
    "executionInfo": {
     "elapsed": 485,
     "status": "ok",
     "timestamp": 1636136970921,
     "user": {
      "displayName": "Эрик Муллагалиев",
      "photoUrl": "https://lh3.googleusercontent.com/a/default-user=s64",
      "userId": "09073712434566956400"
     },
     "user_tz": -180
    },
    "id": "TMU-vG5tL_53",
    "outputId": "3923dda4-508f-49ce-cb2d-a688a62407be"
   },
   "outputs": [
    {
     "name": "stdout",
     "output_type": "stream",
     "text": [
      "Матрица A:\n",
      "[[-21.91  -2.22]\n",
      " [ 29.03   1.74]\n",
      " [-12.77  -3.18]\n",
      " [ 19.73   0.94]\n",
      " [ -7.12   0.87]\n",
      " [  1.81   2.07]\n",
      " [ -0.37   0.87]\n",
      " [-15.29  -0.37]\n",
      " [ 28.95   4.61]\n",
      " [-14.59  -2.79]\n",
      " [ 15.39  -0.37]\n",
      " [-18.04  -2.29]\n",
      " [ -9.55  -3.19]\n",
      " [  5.11  -0.27]\n",
      " [  8.9    3.4 ]\n",
      " [ -0.86  -1.42]\n",
      " [ -7.84   1.94]\n",
      " [ -3.33   1.89]\n",
      " [-19.48  -3.03]\n",
      " [-16.8   -1.58]\n",
      " [-29.43  -3.37]\n",
      " [ 20.4    3.46]\n",
      " [ 20.01   4.86]\n",
      " [ 17.14   3.7 ]\n",
      " [-24.54  -1.86]\n",
      " [-20.05  -4.35]\n",
      " [  9.58  -0.11]\n",
      " [ 15.75   1.22]\n",
      " [ 20.8    2.53]\n",
      " [  0.09  -2.76]]\n"
     ]
    }
   ],
   "source": [
    "import matplotlib.pyplot as plt\n",
    "import numpy as np\n",
    "np.set_printoptions(precision=2, suppress=True)\n",
    "\n",
    "\n",
    "x = np.random.uniform(-30, 30, 30)\n",
    "q = np.random.uniform(-30, 30, 30)\n",
    "y = 0.1 * x + 0.1 * q \n",
    "\n",
    "\n",
    "A = np.array([x]+[y]).T\n",
    "\n",
    "print(f'Матрица A:\\n{A}')"
   ]
  },
  {
   "cell_type": "code",
   "execution_count": 15,
   "metadata": {
    "colab": {
     "base_uri": "https://localhost:8080/"
    },
    "executionInfo": {
     "elapsed": 461,
     "status": "ok",
     "timestamp": 1636136981615,
     "user": {
      "displayName": "Эрик Муллагалиев",
      "photoUrl": "https://lh3.googleusercontent.com/a/default-user=s64",
      "userId": "09073712434566956400"
     },
     "user_tz": -180
    },
    "id": "0_t_s9bGL_6O",
    "outputId": "4bb068d6-916c-4978-f77a-610f3daa0c74"
   },
   "outputs": [
    {
     "name": "stdout",
     "output_type": "stream",
     "text": [
      "Матрица A_:\n",
      "[[8459.58 1029.59]\n",
      " [1029.59  200.68]]\n",
      "Собственные значения:\n",
      "[8586.     74.26]\n",
      "Собственные векторы:\n",
      "[[ 0.99 -0.12]\n",
      " [ 0.12  0.99]]\n",
      "Собственные значения:\n",
      "[8586.     74.26]\n",
      "Матрица U:\n",
      "[[-0.99 -0.12]\n",
      " [-0.12  0.99]]\n",
      "Собственные вектор, найденный по первому собственному значению:\n",
      "[-0.99 -0.12]\n",
      "Собственные вектор, найденный по второму собственному значению:\n",
      "[-0.12  0.99]\n",
      "Матрица V:\n",
      "[[-0.99 -0.12]\n",
      " [-0.12  0.99]]\n"
     ]
    }
   ],
   "source": [
    "cov_A = A.T @ A\n",
    "w, v = np.linalg.eig(cov_A)\n",
    "\n",
    "print(f'Матрица A_:\\n{cov_A}')\n",
    "print(f'Собственные значения:\\n{w}')\n",
    "print(f'Собственные векторы:\\n{v}')\n",
    "\n",
    "U, s, V = np.linalg.svd(cov_A)\n",
    "D = np.eye(2) * s\n",
    "print(f'Собственные значения:\\n{s}')\n",
    "print(f'Матрица U:\\n{U}')\n",
    "print(f'Собственные вектор, найденный по первому собственному значению:\\n{U[0]}')\n",
    "print(f'Собственные вектор, найденный по второму собственному значению:\\n{U[1]}')\n",
    "print(f'Матрица V:\\n{V}')"
   ]
  },
  {
   "cell_type": "code",
   "execution_count": 16,
   "metadata": {
    "colab": {
     "base_uri": "https://localhost:8080/",
     "height": 497
    },
    "executionInfo": {
     "elapsed": 572,
     "status": "ok",
     "timestamp": 1636137005445,
     "user": {
      "displayName": "Эрик Муллагалиев",
      "photoUrl": "https://lh3.googleusercontent.com/a/default-user=s64",
      "userId": "09073712434566956400"
     },
     "user_tz": -180
    },
    "id": "4LxOvSiwL_6Q",
    "outputId": "20f2a495-0f58-4f9c-b17e-a71d1881025a"
   },
   "outputs": [
    {
     "data": {
      "image/png": "[encoded data removed]",
      "text/plain": [
       "<Figure size 576x576 with 1 Axes>"
      ]
     },
     "metadata": {
      "needs_background": "light"
     },
     "output_type": "display_data"
    }
   ],
   "source": [
    "import matplotlib.pyplot as plt\n",
    "\n",
    "plt.figure(figsize=(8,8))\n",
    "plt.xlim([-33, 33])\n",
    "plt.ylim([-33, 33])\n",
    "plt.yticks(np.arange(-30, 31, 3))\n",
    "plt.xticks(np.arange(-30, 31, 3))\n",
    "plt.gca().set_aspect('equal', adjustable='box')\n",
    "\n",
    "\n",
    "plt.scatter(A.T[0], A.T[1], c='black')\n",
    "\n",
    "\n",
    "origin = [0], [0] # origin point\n",
    "plt.quiver([0],[0], U[:1][0][0], U[:1][0][1], color=['g'], scale=3)\n",
    "plt.quiver([0],[0], U[1:2][0][0], U[1:2][0][1], color=['r'], scale=3)\n",
    "plt.xlabel(\"x\")\n",
    "plt.ylabel(\"y\")\n",
    "\n",
    "plt.show()"
   ]
  },
  {
   "cell_type": "code",
   "execution_count": null,
   "metadata": {},
   "outputs": [],
   "source": []
  },
  {
   "cell_type": "code",
   "execution_count": null,
   "metadata": {},
   "outputs": [],
   "source": []
  }
 ],
 "metadata": {
  "colab": {
   "collapsed_sections": [],
   "name": "Пример с ковариационной матрицей.ipynb",
   "provenance": []
  },
  "kernelspec": {
   "display_name": "Python 3 (ipykernel)",
   "language": "python",
   "name": "python3"
  },
  "language_info": {
   "codemirror_mode": {
    "name": "ipython",
    "version": 3
   },
   "file_extension": ".py",
   "mimetype": "text/x-python",
   "name": "python",
   "nbconvert_exporter": "python",
   "pygments_lexer": "ipython3",
   "version": "3.8.13"
  }
 },
 "nbformat": 4,
 "nbformat_minor": 1
}
