{
 "cells": [
  {
   "cell_type": "markdown",
   "metadata": {
    "id": "XAv9cZVp9N5x"
   },
   "source": [
    "# Линейные преобразования"
   ]
  },
  {
   "cell_type": "markdown",
   "metadata": {
    "id": "3GDQO24h9N6M"
   },
   "source": [
    "# Домашнее задание"
   ]
  },
  {
   "cell_type": "markdown",
   "metadata": {
    "id": "rtL9fAAS9N6P"
   },
   "source": [
    "__1.__ Найти собственные векторы и собственные значения для линейного оператора, заданного матрицей\n",
    "\n",
    "### $$A=\\begin{pmatrix}\n",
    "-1 & -6\\\\ \n",
    "2 & 6\n",
    "\\end{pmatrix}.$$"
   ]
  },
  {
   "cell_type": "markdown",
   "metadata": {
    "id": "F-uYq4N-9N6T"
   },
   "source": [
    "__Решение__"
   ]
  },
  {
   "cell_type": "markdown",
   "metadata": {
    "id": "f1P_Aslo9N6W"
   },
   "source": [
    "Найдем собственные значения:"
   ]
  },
  {
   "cell_type": "markdown",
   "metadata": {
    "id": "uuSV_YLM9N6X"
   },
   "source": [
    "###  $$\\begin{vmatrix}\n",
    "-1-\\lambda & -6\\\\ \n",
    "2 & 6-\\lambda\n",
    "\\end{vmatrix} = 0,$$\n",
    "\n",
    "### $$(-1-\\lambda)(6-\\lambda)-2\\cdot(-6)=0,$$\n",
    "\n",
    "### $$\\lambda^{2}-5\\cdot\\lambda+6=0,$$\n",
    "\n",
    "### $$D=25-24=1,$$\n",
    "\n",
    "### $$\\lambda_{1}=2, \\lambda_{2}=3.$$"
   ]
  },
  {
   "cell_type": "markdown",
   "metadata": {
    "id": "7G66zOx29N6a"
   },
   "source": [
    "Найдем собственный вектор для $\\lambda_{1}$:"
   ]
  },
  {
   "cell_type": "markdown",
   "metadata": {
    "id": "rSn5dT5F9N6c"
   },
   "source": [
    "### $$\\begin{pmatrix}\n",
    "-1 & -6\\\\ \n",
    "2 & 6\n",
    "\\end{pmatrix}\n",
    "\\begin{pmatrix}\n",
    "x_{1}\\\\ \n",
    "x_{2}\n",
    "\\end{pmatrix}=\n",
    "2\n",
    "\\begin{pmatrix}\n",
    "x_{1}\\\\ \n",
    "x_{2}\n",
    "\\end{pmatrix},\n",
    "$$"
   ]
  },
  {
   "cell_type": "markdown",
   "metadata": {
    "id": "3yjaDn6x9N6g"
   },
   "source": [
    "### $$\\begin{cases}\n",
    "-x_{1}-6\\cdot x_{2}=2\\cdot x_{1}, \\\\\n",
    "2\\cdot x_{1}+6\\cdot x_{2}=2\\cdot x_{2},\n",
    "\\end{cases}$$ "
   ]
  },
  {
   "cell_type": "markdown",
   "metadata": {
    "id": "vwcYuFyo9N6j"
   },
   "source": [
    "### $$\\begin{cases}\n",
    "-3\\cdot x_{1}= 6\\cdot x_{2}, \\\\\n",
    "2\\cdot x_{1} = -4\\cdot x_{2},\n",
    "\\end{cases}$$ "
   ]
  },
  {
   "cell_type": "markdown",
   "metadata": {
    "id": "_QMzGVYV9N6q"
   },
   "source": [
    "__Ответ__"
   ]
  },
  {
   "cell_type": "markdown",
   "metadata": {
    "id": "7478MC519N6r"
   },
   "source": [
    "###  $$x_{1}= -2\\cdot x_{2},$$\n",
    "\n",
    "Если $x_{2}=1$, то $x_{1}=-2$. Получаем вектор $(-2,1)$"
   ]
  },
  {
   "cell_type": "markdown",
   "metadata": {
    "id": "BMTen1229N6t"
   },
   "source": [
    "Найдем собственный вектор для $\\lambda_{2}$:"
   ]
  },
  {
   "cell_type": "markdown",
   "metadata": {
    "id": "WG8fkFWq9N6y"
   },
   "source": [
    "### $$\\begin{pmatrix}\n",
    "-1 & -6\\\\ \n",
    "2 & 6\n",
    "\\end{pmatrix}\n",
    "\\begin{pmatrix}\n",
    "x_{1}\\\\ \n",
    "x_{2}\n",
    "\\end{pmatrix}=\n",
    "3\n",
    "\\begin{pmatrix}\n",
    "x_{1}\\\\ \n",
    "x_{2}\n",
    "\\end{pmatrix},\n",
    "$$"
   ]
  },
  {
   "cell_type": "markdown",
   "metadata": {
    "id": "U8p_oaL99N6z"
   },
   "source": [
    "### $$\\begin{cases}\n",
    "-x_{1}-6\\cdot x_{2}=3\\cdot x_{1}, \\\\\n",
    "2\\cdot x_{1}+6\\cdot x_{2}=3\\cdot x_{2},\n",
    "\\end{cases}$$ "
   ]
  },
  {
   "cell_type": "markdown",
   "metadata": {
    "id": "B7AWAfQ69N60"
   },
   "source": [
    "### $$\\begin{cases}\n",
    "-4\\cdot x_{1}= 6\\cdot x_{2}, \\\\\n",
    "2\\cdot x_{1} = -3\\cdot x_{2},\n",
    "\\end{cases}$$ "
   ]
  },
  {
   "cell_type": "markdown",
   "metadata": {
    "id": "d-mFMLVx9N64"
   },
   "source": [
    "__Ответ__"
   ]
  },
  {
   "cell_type": "markdown",
   "metadata": {
    "id": "vDl8CChr9N65"
   },
   "source": [
    "### $$2x_{1}= -3\\cdot x_{2},$$\n",
    "\n",
    "Если $x_{2}=2$, то $x_{1}=-3$. Получаем вектор $(-3,2)$"
   ]
  },
  {
   "cell_type": "markdown",
   "metadata": {
    "id": "8a4NbUJu9N67"
   },
   "source": [
    "__2.__ Дан оператор поворота на 180 градусов, задаваемый матрицей \n",
    "\n",
    "### $$A=\\begin{pmatrix}\n",
    "-1 & 0\\\\ \n",
    "0 & -1\n",
    "\\end{pmatrix}.$$\n",
    "\n",
    "Показать, что __любой__ вектор является для него собственным."
   ]
  },
  {
   "cell_type": "markdown",
   "metadata": {
    "id": "zbFVJBRS9N69"
   },
   "source": [
    "__Решение__"
   ]
  },
  {
   "cell_type": "markdown",
   "metadata": {
    "id": "8-w7gly79N7C"
   },
   "source": [
    "Найдем собственные значения:\n",
    "\n",
    "### $$\\begin{vmatrix}\n",
    "-1-\\lambda & 0\\\\ \n",
    "0 & -1-\\lambda\n",
    "\\end{vmatrix} = 0,$$\n",
    "\n",
    "### $$(-1-\\lambda)(-1-\\lambda)=0,$$\n",
    "\n",
    "### $$(-1-\\lambda)^{2}=0,$$\n",
    "\n",
    "### $$\\lambda_{1}=\\lambda_{2}=-1$$"
   ]
  },
  {
   "cell_type": "markdown",
   "metadata": {
    "id": "d8wqWV_W9N7D"
   },
   "source": [
    "Предположим, что любой вектор $x$ является собственным вектором заданного линейного оператора, тогда должно существовать некоторое вещественное число $\\lambda$, при котором \n",
    "\n",
    "### $$\\begin{pmatrix}\n",
    "-1 & 0\\\\ \n",
    "0 & -1\n",
    "\\end{pmatrix}\n",
    "\\begin{pmatrix}\n",
    "x_{1}\\\\ \n",
    "x_{2} \n",
    "\\end{pmatrix}=\n",
    "\\lambda\n",
    "\\begin{pmatrix}\n",
    "x_{1}\\\\ \n",
    "x_{2}\n",
    "\\end{pmatrix},\n",
    "$$"
   ]
  },
  {
   "cell_type": "markdown",
   "metadata": {
    "id": "cBV6ddC_9N7E"
   },
   "source": [
    "Из этого будет следовать, что \n",
    "\n",
    "### $$\\begin{cases}\n",
    "-x_{1}=\\lambda \\cdot x_{1}\\\\ \n",
    "-x_{2}=\\lambda \\cdot x_{2}\n",
    "\\end{cases}\n",
    ".$$"
   ]
  },
  {
   "cell_type": "markdown",
   "metadata": {
    "id": "iA3cpfri9N7H"
   },
   "source": [
    "При $\\lambda = -1$ получаем:\n",
    "\n",
    "### $$\\begin{cases}\n",
    "-x_{1}=-x_{1}\\\\ \n",
    "-x_{2}=-x_{2}\n",
    "\\end{cases}$$\n",
    "\n",
    "или \n",
    "\n",
    "### $$\\begin{cases}\n",
    "0\\cdot x_{1}=0\\\\ \n",
    "0\\cdot x_{2}=0\n",
    "\\end{cases}$$\n",
    "\n",
    "То есть $x_1$ и $x_2$ любые"
   ]
  },
  {
   "cell_type": "markdown",
   "metadata": {
    "id": "RQb7QBPB9N7I"
   },
   "source": [
    "__3.__ Пусть линейный оператор задан матрицей\n",
    "\n",
    "### $$A=\\begin{pmatrix}\n",
    "1 & 1\\\\ \n",
    "-1 & 3\n",
    "\\end{pmatrix}.$$\n",
    "\n",
    "Установить, является ли вектор $x=(1,1)$ собственным вектором этого линейного оператора."
   ]
  },
  {
   "cell_type": "markdown",
   "metadata": {
    "id": "U3y-vybA9N7I"
   },
   "source": [
    "__Решение__"
   ]
  },
  {
   "cell_type": "markdown",
   "metadata": {
    "id": "to-0HRXk9N7J"
   },
   "source": [
    "Предположим, что вектор $x$ является собственным вектором заданного линейного оператора, тогда должно существовать некоторое вещественное число $\\lambda$, при котором \n",
    "\n",
    "### $$\\begin{pmatrix}\n",
    "1 & 1\\\\ \n",
    "-1 & 3\n",
    "\\end{pmatrix}\n",
    "\\begin{pmatrix}\n",
    "1\\\\ \n",
    "1 \n",
    "\\end{pmatrix}=\n",
    "\\lambda\n",
    "\\begin{pmatrix}\n",
    "1\\\\ \n",
    "1\n",
    "\\end{pmatrix}.\n",
    "$$"
   ]
  },
  {
   "cell_type": "markdown",
   "metadata": {
    "id": "YULTOs3U9N7J"
   },
   "source": [
    "Из этого будет следовать, что \n",
    "\n",
    "### $$\\begin{cases}\n",
    "1+1=1\\cdot\\lambda \\\\ \n",
    "-1+3 = 1\\cdot \\lambda\n",
    "\\end{cases}\n",
    "\\Rightarrow\n",
    "\\begin{cases}\n",
    "\\lambda=2\\\\ \n",
    "\\lambda=2\n",
    "\\end{cases}.$$"
   ]
  },
  {
   "cell_type": "markdown",
   "metadata": {
    "id": "wwuqbl6R9N7L"
   },
   "source": [
    "Таким образом, вектор $x=(1,1)$ является собственным вектором линейного оператора, заданного матрицей $A$, и его собственное значение составляет $\\lambda=2.$"
   ]
  },
  {
   "cell_type": "markdown",
   "metadata": {
    "id": "q6qOea1U9N7N"
   },
   "source": [
    "__4.__ Пусть линейный оператор задан матрицей\n",
    "\n",
    "### $$A=\\begin{pmatrix}\n",
    "0 & 3 & 0\\\\ \n",
    "3 & 0 & 0\\\\\n",
    "0 & 0 & 3\n",
    "\\end{pmatrix}.$$\n",
    "\n",
    "Установить, является ли вектор $x=(3, -3, -4)$ собственным вектором этого линейного оператора."
   ]
  },
  {
   "cell_type": "markdown",
   "metadata": {
    "id": "hT6Dg-jT9N7P"
   },
   "source": [
    "__Решение__"
   ]
  },
  {
   "cell_type": "markdown",
   "metadata": {
    "id": "W4VO16z09N7P"
   },
   "source": [
    "Предположим, что вектор $x$ является собственным вектором заданного линейного оператора, тогда должно существовать некоторое вещественное число $\\lambda$, при котором \n",
    "\n",
    "### $$\\begin{pmatrix}\n",
    "0 & 3 & 0\\\\ \n",
    "3 & 0 & 0\\\\\n",
    "0 & 0 &3\n",
    "\\end{pmatrix}\n",
    "\\begin{pmatrix}\n",
    "3\\\\ \n",
    "-3\\\\\n",
    "-4\n",
    "\\end{pmatrix}=\n",
    "\\lambda\n",
    "\\begin{pmatrix}\n",
    "3\\\\ \n",
    "-3\\\\\n",
    "-4\n",
    "\\end{pmatrix}.\n",
    "$$"
   ]
  },
  {
   "cell_type": "markdown",
   "metadata": {
    "id": "zGYthXFI9N7Q"
   },
   "source": [
    "Из этого будет следовать, что \n",
    "\n",
    "### $$\\begin{cases}\n",
    "-9=3\\cdot\\lambda \\\\ \n",
    "9 = -3\\cdot \\lambda \\\\\n",
    "-12=-4\\cdot\\lambda\n",
    "\\end{cases}\n",
    "\\Rightarrow\n",
    "\\begin{cases}\n",
    "\\lambda=-3\\\\ \n",
    "\\lambda=-3 \\\\\n",
    "\\lambda=3\n",
    "\\end{cases}.$$"
   ]
  },
  {
   "cell_type": "markdown",
   "metadata": {
    "id": "y9rbJw2h9N7Q"
   },
   "source": [
    "Такая система не имеет смысла, следовательно, вектор $x=(3, -3, -4)$ не является собственным вектором линейного оператора, заданного матрицей $A$."
   ]
  }
 ],
 "metadata": {
  "colab": {
   "name": "разбор ДЗ 5.ipynb",
   "provenance": []
  },
  "kernelspec": {
   "display_name": "Python 3 (ipykernel)",
   "language": "python",
   "name": "python3"
  },
  "language_info": {
   "codemirror_mode": {
    "name": "ipython",
    "version": 3
   },
   "file_extension": ".py",
   "mimetype": "text/x-python",
   "name": "python",
   "nbconvert_exporter": "python",
   "pygments_lexer": "ipython3",
   "version": "3.9.13"
  }
 },
 "nbformat": 4,
 "nbformat_minor": 1
}
