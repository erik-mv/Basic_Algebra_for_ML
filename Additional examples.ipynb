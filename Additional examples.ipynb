{
 "cells": [
  {
   "cell_type": "markdown",
   "id": "cf490bdc",
   "metadata": {},
   "source": [
    "###  1. Написать две функции для вычисления нормы _L1_ и _L2_ вектора без библиотеки _linalg_ с использованием операций __map()__ и __reduce()__\n"
   ]
  },
  {
   "cell_type": "code",
   "execution_count": null,
   "id": "11018260",
   "metadata": {},
   "outputs": [],
   "source": [
    "def norm_l1(vec):\n",
    "    # код\n",
    "    \n",
    "    return"
   ]
  },
  {
   "cell_type": "code",
   "execution_count": null,
   "id": "87d92243",
   "metadata": {},
   "outputs": [],
   "source": [
    "assert abs(norm_l1([1, 2, -3]) - 6) < 0.0001\n",
    "assert abs(norm_l1([-10]) - 10) < 0.0001\n",
    "assert abs(norm_l1([0, 0, 0, 0]) - 0) < 0.0001\n",
    "assert abs(norm_l1([-10, 7, -3]) - 20) < 0.0001"
   ]
  },
  {
   "cell_type": "code",
   "execution_count": null,
   "id": "585d55e5",
   "metadata": {},
   "outputs": [],
   "source": [
    "def norm_l2(vec):\n",
    "    # код\n",
    "    \n",
    "    return"
   ]
  },
  {
   "cell_type": "code",
   "execution_count": null,
   "id": "88a12c98",
   "metadata": {},
   "outputs": [],
   "source": [
    "assert abs(norm_l2([12, -8, 9]) - 17) < 0.0001\n",
    "assert abs(norm_l2([-10]) - 10) < 0.0001\n",
    "assert abs(norm_l2([0, 0, 0, 0]) - 0) < 0.0001\n",
    "assert abs(norm_l2([3, -4]) - 5) < 0.0001"
   ]
  },
  {
   "cell_type": "markdown",
   "id": "01e14c4f",
   "metadata": {},
   "source": [
    "###  2. Написать функцию, которая будет вычислять значение параметра $p$ для нормы Гёльдера, при котором норма Гёльдера вектора $х = (a, a)$ , где $a \\in (0, 1)$ равна 1. Т.е. $||x||_p=1$"
   ]
  },
  {
   "cell_type": "code",
   "execution_count": 17,
   "id": "609938b1",
   "metadata": {},
   "outputs": [
    {
     "data": {
      "text/plain": [
       "array([0.26890882, 0.26890882])"
      ]
     },
     "execution_count": 17,
     "metadata": {},
     "output_type": "execute_result"
    }
   ],
   "source": [
    "import numpy as np\n",
    "\n",
    "a = np.random.random()\n",
    "x = np.array([a, a])\n",
    "x\n",
    "\n",
    "def find_p(x):\n",
    "    # код\n",
    "    \n",
    "    return p\n",
    "\n",
    "print (find_p(x))"
   ]
  },
  {
   "cell_type": "code",
   "execution_count": null,
   "id": "31d0be58",
   "metadata": {},
   "outputs": [],
   "source": [
    "assert abs(find_p([0.5, 0.5]) - 1) < 0.0001\n",
    "\n",
    "assert abs(find_p([np.sqrt(2) / 2, np.sqrt(2) / 2]) - 2) < 0.0001"
   ]
  }
 ],
 "metadata": {
  "kernelspec": {
   "display_name": "Python 3 (ipykernel)",
   "language": "python",
   "name": "python3"
  },
  "language_info": {
   "codemirror_mode": {
    "name": "ipython",
    "version": 3
   },
   "file_extension": ".py",
   "mimetype": "text/x-python",
   "name": "python",
   "nbconvert_exporter": "python",
   "pygments_lexer": "ipython3",
   "version": "3.8.13"
  }
 },
 "nbformat": 4,
 "nbformat_minor": 5
}
